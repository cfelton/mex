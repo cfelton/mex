{
 "cells": [
  {
   "cell_type": "code",
   "execution_count": 1,
   "metadata": {
    "collapsed": false
   },
   "outputs": [],
   "source": [
    "from __future__ import division\n",
    "from __future__ import print_function\n",
    "\n",
    "import os\n",
    "\n",
    "from myhdl import *\n",
    "from support import vcd\n",
    "\n",
    "from test_01_mex import test\n",
    "\n",
    "%matplotlib inline"
   ]
  },
  {
   "cell_type": "markdown",
   "metadata": {},
   "source": [
    "# MyHDL Function (module)\n",
    "An [introductory MyHDL tutorial](http://www.fpgarelated.com/showarticle/25.php) presents a small example towards the begining of the post.  A MyHDL anatomy graphic (see below) is used to describe the parts of a MyHDL module.  Note, the nomenclature is a little odd here, in Python a module is a file and in MyHDL a module (typically sometimes called a component) is a Python function that describes a set of hardware behavior.  Hardware module is commonly used to name an HDL component in a digital circuit - the use has been propgated forward.\n",
    "\n",
    "<center><figure>\n",
    "<a href=\"https://www.flickr.com/photos/79765478@N08/14230879911\" title=\"myhdl_module_anatomy by cfelton*, on Flickr\"><img src=\"https://farm3.staticflickr.com/2932/14230879911_03ce54dcde_z.jpg\" width=\"640\" height=\"322\" alt=\"myhdl_module_anatomy\"></a>\n",
    "<caption> MyHDL Module Anatomy </caption>\n",
    "</figure></center>\n",
    "\n",
    "\n",
    "# A Shift Register\n",
    "<!-- there is an assumption the user will know what a shift register is, these exercises are for people that know Verilog/VHDL.  Not teaching digital logic from scratch !! -->\n",
    "What exactly does a shift register do?  In the exercise description section there is a link to a short video describing a shift register.  But to generate one all we really need is a description of what the expected behavior is.  In this case we have a parallel value, `lval` that will be serialized to a single bit, the following shows the temporal behavior.  If we have an contrained integer with a maximum value of 256, the following will be the behavior:\n",
    "   \n",
    "    Time | load | ival (d) | ival (b)  | obit\n",
    "    -----+------+----------+-----------+-----\n",
    "    T0   | 1    |  32      | 0000_0000 | 0\n",
    "    T1   | 0    |  X       | 0010_0000 | 0\n",
    "    T2   | 0    |  X       | 0100_0000 | 0\n",
    "    T3   | 0    |  X       | 1000_0000 | 1\n",
    "    T4   | 0    |  X       | 0000_0001 | 0\n",
    "    T5   | 0    |  X       | 0000_0010 | 0\n",
    "\n",
    "\n",
    "## Exercise Description\n",
    "This exercise is to implement the shift register shown with the following additions:\n",
    "\n",
    "1.  Make the shift register circular\n",
    "2.  Add an inital condition parameter `ival`\n",
    "\n",
    "To make the the [shift register](https://www.youtube.com/watch?v=aAm96cCZ76g)(YouTube) circular connect the most-significant-bit (msb) to the least-significant-bit (lsb).\n",
    "\n",
    "Sections from the MyHDL manual that may be useful:\n",
    "\n",
    "1. [Bit indexing and slicing](http://docs.myhdl.org/en/latest/manual/hwtypes.html#bit-indexing)\n",
    "2. [Signals](http://docs.myhdl.org/en/stable/manual/intro.html#signals-ports-and-concurrency), [Why Signal Assignments](http://www.jandecaluwe.com/hdldesign/signal-assignments.html)\n",
    "3. [The concat function](http://docs.myhdl.org/en/latest/manual/reference.html?highlight=concat#myhdl.concat) \n",
    "\n",
    "Fill in the body of the following and then run the test cell.\n",
    "\n",
    "### Hints\n",
    "\n",
    "1.  An internal signal will be used to represent the shift register.  The width (max value) of the register "
   ]
  },
  {
   "cell_type": "code",
   "execution_count": 5,
   "metadata": {
    "collapsed": false
   },
   "outputs": [],
   "source": [
    "def shifty(clock, reset, load, load_value, output_bit, initial_value=0):\n",
    "    \"\"\"\n",
    "    Ports:\n",
    "       load: input, load strobe, load the ival\n",
    "       load_value: input, the value to be loaded\n",
    "       output_bit: output, The most significant \n",
    "       initial_value: initial value\n",
    "    \"\"\"\n",
    "    shiftreg = Signal(intbv(initial_value, \n",
    "                            min=load_value.min, max=load_value.max))\n",
    "    mask = shiftreg.max-1\n",
    "    \n",
    "    # non working template\n",
    "    @always_seq(clock.posedge, reset=reset)\n",
    "    def beh():\n",
    "        output_bit.next = shiftreg[0]\n",
    "        \n",
    "    # for monitoring, access outside this function\n",
    "    shifty.shiftreg = shiftreg\n",
    "    \n",
    "    return beh\n"
   ]
  },
  {
   "cell_type": "markdown",
   "metadata": {},
   "source": [
    "After the above has been coded run the next cell to test.  If the test fails it will print out the last five clock cycles and some values.  The VCD file can be displayed below (very basic waveforms) for debug."
   ]
  },
  {
   "cell_type": "code",
   "execution_count": 6,
   "metadata": {
    "collapsed": false,
    "scrolled": true
   },
   "outputs": [
    {
     "name": "stdout",
     "output_type": "stream",
     "text": [
      "Test Error\n",
      "Last 20 clock cycles\n",
      " time    | load | lval | obit | shift (y)\n",
      "      -1 |    0 | 0000 |    0 | 0000\n",
      "      -1 |    0 | 0000 |    0 | 0000\n",
      "      -1 |    0 | 0000 |    0 | 0000\n",
      "      -1 |    0 | 0000 |    0 | 0000\n",
      "      -1 |    0 | 0000 |    0 | 0000\n",
      "      -1 |    0 | 0000 |    0 | 0000\n",
      "      -1 |    0 | 0000 |    0 | 0000\n",
      "      -1 |    0 | 0000 |    0 | 0000\n",
      "      -1 |    0 | 0000 |    0 | 0000\n",
      "      -1 |    0 | 0000 |    0 | 0000\n",
      "      -1 |    0 | 0000 |    0 | 0000\n",
      "      -1 |    0 | 0000 |    0 | 0000\n",
      "      -1 |    0 | 0000 |    0 | 0000\n",
      "      -1 |    0 | 0000 |    0 | 0000\n",
      "      -1 |    0 | 0000 |    0 | 0000\n",
      "       3 |    0 | 0000 |    1 | 000B\n",
      "       9 |    0 | 0000 |    1 | 000B\n",
      "      15 |    0 | 0000 |    1 | 000B\n",
      "      21 |    0 | 0000 |    1 | 000B\n",
      "      27 |    0 | 0000 |    1 | 000B\n",
      "\n"
     ]
    }
   ],
   "source": [
    "test(shifty)"
   ]
  },
  {
   "cell_type": "code",
   "execution_count": 4,
   "metadata": {
    "collapsed": false
   },
   "outputs": [
    {
     "data": {
      "text/plain": [
       "(<matplotlib.figure.Figure at 0x45d4400>,\n",
       " <matplotlib.axes._subplots.AxesSubplot at 0x7397c88>)"
      ]
     },
     "execution_count": 4,
     "metadata": {},
     "output_type": "execute_result"
    },
    {
     "data": {
      "image/png": "[encoded data removed]",
      "text/plain": [
       "<matplotlib.figure.Figure at 0x45d4400>"
      ]
     },
     "metadata": {},
     "output_type": "display_data"
    }
   ],
   "source": [
    "vcd.parse_and_plot('vcd/01_mex.vcd')"
   ]
  },
  {
   "cell_type": "markdown",
   "metadata": {},
   "source": [
    " \n"
   ]
  },
  {
   "cell_type": "code",
   "execution_count": null,
   "metadata": {
    "collapsed": false
   },
   "outputs": [],
   "source": [
    "# View the generated VHDL\n",
    "%less output/shifty.vhd"
   ]
  },
  {
   "cell_type": "code",
   "execution_count": null,
   "metadata": {
    "collapsed": false
   },
   "outputs": [],
   "source": [
    "# View the generated Verilog\n",
    "%less output/shifty.v"
   ]
  }
 ],
 "metadata": {
  "kernelspec": {
   "display_name": "Python 3",
   "language": "python",
   "name": "python3"
  },
  "language_info": {
   "codemirror_mode": {
    "name": "ipython",
    "version": 3
   },
   "file_extension": ".py",
   "mimetype": "text/x-python",
   "name": "python",
   "nbconvert_exporter": "python",
   "pygments_lexer": "ipython3",
   "version": "3.4.3"
  }
 },
 "nbformat": 4,
 "nbformat_minor": 0
}
