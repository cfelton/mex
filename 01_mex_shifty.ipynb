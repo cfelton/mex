{
 "metadata": {
  "name": "",
  "signature": "sha256:0987ef5e3f4ea71bf66492308b33b68406468053dc11276ae90434342b6cd877"
 },
 "nbformat": 3,
 "nbformat_minor": 0,
 "worksheets": [
  {
   "cells": [
    {
     "cell_type": "code",
     "collapsed": false,
     "input": [
      "from __future__ import division\n",
      "from __future__ import print_function\n",
      "\n",
      "import os\n",
      "\n",
      "from myhdl import *\n",
      "from myhdl_tools import vcd\n",
      "\n",
      "from test_01_mex import test"
     ],
     "language": "python",
     "metadata": {},
     "outputs": [],
     "prompt_number": 1
    },
    {
     "cell_type": "markdown",
     "metadata": {},
     "source": [
      "## MyHDL Function (module)\n",
      "In [this tutorial](http://www.fpgarelated.com/showarticle/25.php) a small example is presented towards the begining of the post and a MyHDL anatomy pictural (see below) is used to describe the parts of a MyHDL module.  Note, the nomenclature is a little odd here, in Python a module is a file and in MyHDL a module (typically) is a Python function that describes a set of hardware behavior.  Module is commonly used to name an HDL component in a digital circuit - the use has been propgated forward.\n",
      "\n",
      "<center><figure>\n",
      "<a href=\"https://www.flickr.com/photos/79765478@N08/14230879911\" title=\"myhdl_module_anatomy by cfelton*, on Flickr\"><img src=\"https://farm3.staticflickr.com/2932/14230879911_03ce54dcde_z.jpg\" width=\"640\" height=\"322\" alt=\"myhdl_module_anatomy\"></a>\n",
      "<caption> MyHDL Module Anatomy </caption>\n",
      "</figure></center>\n",
      "\n",
      "# A Shift Register\n",
      "<!-- there is an assumption the user will know what a shift register is, these exercises are for peopel that know Verilog/VHDL.  Not teaching digital logic from scratch !! -->\n",
      "What exactly does a shift register do?  In the exercise description section there is a link to a short video describing a shift register.  But to generate one all we really need is a description of what the expected behavior is.  In this case we have a parallel value, *ival* that will be serialized to a single bit, the following shows the temporal behavior.  If we have an contrained integer with a maximum value of 256, the following will be the behavior:\n",
      "   \n",
      "    Time | load | ival (d) | ival (b)  | obit\n",
      "    -----+------+----------+-----------+-----\n",
      "    T0   | 1    |  32      | 0000_0000 | 0\n",
      "    T1   | 0    |  X       | 0010_0000 | 0\n",
      "    T2   | 0    |  X       | 0100_0000 | 0\n",
      "    T3   | 0    |  X       | 1000_0000 | 1\n",
      "    T4   | 0    |  X       | 0000_0001 | 0\n",
      "    T5   | 0    |  X       | 0000_0010 | 0\n",
      "\n",
      "## Exercise Description\n",
      "This exercise is to implement the shift register shown with the following additions:\n",
      "\n",
      "1.  Make the shift register circular\n",
      "2.  Add an inital condition parameter, *inital*\n",
      "\n",
      "To make the the [shift register]()(YouTube) circular connect the most-significant-bit (msb) to the least-significant-bit (lsb).\n",
      "\n",
      "Sections from the MyHDL manual that may be useful:\n",
      "\n",
      "1. [Bit indexing and slicing](http://docs.myhdl.org/en/latest/manual/hwtypes.html#bit-indexing)\n",
      "2. [Signals]()\n",
      "3. [The concat function](http://docs.myhdl.org/en/latest/manual/reference.html?highlight=concat#myhdl.concat) \n",
      "\n",
      "Fill in the body of the following and then run the test cell.\n",
      "\n",
      "### Hints\n",
      "\n",
      "1.  An internal signal will be used to represent the shift register.  The width (max value) of the register "
     ]
    },
    {
     "cell_type": "code",
     "collapsed": false,
     "input": [
      "def m_shifty(clock, reset, load, lval, obit, ival=0):\n",
      "    \"\"\"\n",
      "       load:input: load strobe, load the ival\n",
      "       lval:input: the value to be loaded\n",
      "       obit:output: The most significant \n",
      "       ival: initial value\n",
      "    \"\"\"\n",
      "    y = Signal(intbv(ival, min=lval.min, max=lval.max))\n",
      "    mask = y.max-1\n",
      "    \n",
      "    # non working template\n",
      "    @always_seq(clock.posedge, reset=reset)\n",
      "    def rtl():\n",
      "        obit.next = y[0]\n",
      "        \n",
      "    # for monitoring, access outside this function\n",
      "    m_shifty.y = y\n",
      "    \n",
      "    return rtl\n",
      "    \n",
      "    \n",
      "    "
     ],
     "language": "python",
     "metadata": {},
     "outputs": [],
     "prompt_number": 2
    },
    {
     "cell_type": "markdown",
     "metadata": {},
     "source": [
      "After the above has been coded run the next cell to test.  If the test fails it will print out the last five clock cycles and some values.  The VCD file can be displayed below (very basic waveforms) for debug."
     ]
    },
    {
     "cell_type": "code",
     "collapsed": false,
     "input": [
      "test(m_shifty)"
     ],
     "language": "python",
     "metadata": {},
     "outputs": [
      {
       "output_type": "stream",
       "stream": "stdout",
       "text": [
        "Start\n",
        "Last five clock cycles\n",
        " time    | load | lval  | obit | \n",
        "      -1 |    0 | 0000 | 0 | 0000\n",
        "      -1 |    0 | 0000 | 0 | 0000\n",
        "      -1 |    0 | 0000 | 0 | 0000\n",
        "      15 |    0 | 0000 | 1 | 0089\n",
        "\n",
        "End\n"
       ]
      },
      {
       "output_type": "stream",
       "stream": "stderr",
       "text": [
        "** ToVHDLWarning: Port is not used: load\n",
        "** ToVHDLWarning: Port is not used: lval\n",
        "** ToVHDLWarning: Signal is not driven: y\n",
        "** ToVerilogWarning: Port is not used: load\n",
        "** ToVerilogWarning: Port is not used: lval\n",
        "** ToVerilogWarning: Signal is not driven: y\n"
       ]
      }
     ],
     "prompt_number": 3
    },
    {
     "cell_type": "code",
     "collapsed": false,
     "input": [
      "vcd.parse_and_plot('vcd/01_mex.vcd')"
     ],
     "language": "python",
     "metadata": {},
     "outputs": [
      {
       "metadata": {},
       "output_type": "pyout",
       "prompt_number": 5,
       "text": [
        "(<matplotlib.figure.Figure at 0x2d862d0>,\n",
        " <matplotlib.axes.AxesSubplot at 0x2d86350>)"
       ]
      },
      {
       "metadata": {},
       "output_type": "display_data",
       "png": "[encoded data removed]",
       "text": [
        "<matplotlib.figure.Figure at 0x2d862d0>"
       ]
      }
     ],
     "prompt_number": 5
    },
    {
     "cell_type": "markdown",
     "metadata": {},
     "source": [
      "## More Nomenclature\n"
     ]
    },
    {
     "cell_type": "code",
     "collapsed": false,
     "input": [
      "# View the generated VHDL\n",
      "%less m_shifty.vhd"
     ],
     "language": "python",
     "metadata": {},
     "outputs": []
    },
    {
     "cell_type": "code",
     "collapsed": false,
     "input": [
      "# View the generated Verilog\n",
      "%less m_shifty.v"
     ],
     "language": "python",
     "metadata": {},
     "outputs": []
    }
   ],
   "metadata": {}
  }
 ]
}