{
 "cells": [
  {
   "cell_type": "code",
   "execution_count": 1,
   "metadata": {
    "collapsed": true
   },
   "outputs": [],
   "source": [
    "from __future__ import division\n",
    "from __future__ import print_function\n",
    "\n",
    "from myhdl import Signal, intbv, always_seq\n",
    "from support import vcd\n",
    "\n",
    "from test_02_mex import test\n",
    "\n",
    "%matplotlib inline"
   ]
  },
  {
   "cell_type": "markdown",
   "metadata": {},
   "source": [
    "## Greatest Common Divisor\n",
    "The goal of this exercise is to implement a module that \n",
    "calculates the [greatest common divisor](https://en.wikipedia.org/wiki/Greatest_common_divisor).\n",
    "\n",
    "\n",
    "### Exercise Description\n",
    "\n",
    "### Handshanking\n",
    "\n",
    "### Hints\n",
    "1. "
   ]
  },
  {
   "cell_type": "code",
   "execution_count": 2,
   "metadata": {
    "collapsed": true
   },
   "outputs": [],
   "source": [
    "def gcd(clock, reset, a, b, c, start, finished):\n",
    "    \n",
    "    # example of handshaking, the finished is toggled \n",
    "    # after the start strobe.\n",
    "    @always_seq(clock.posedge, reset=reset)\n",
    "    def beh():\n",
    "        if start:\n",
    "            finished.next = False\n",
    "        elif not finished:\n",
    "            finished.next = True \n",
    "            \n",
    "    return beh\n"
   ]
  },
  {
   "cell_type": "code",
   "execution_count": 3,
   "metadata": {
    "collapsed": false
   },
   "outputs": [
    {
     "name": "stdout",
     "output_type": "stream",
     "text": [
      "Test Error\n",
      "Last 20 clock cycles\n",
      "\n"
     ]
    }
   ],
   "source": [
    "test(gcd)"
   ]
  },
  {
   "cell_type": "code",
   "execution_count": 4,
   "metadata": {
    "collapsed": false
   },
   "outputs": [
    {
     "data": {
      "text/plain": [
       "(<matplotlib.figure.Figure at 0x71dde10>,\n",
       " <matplotlib.axes._subplots.AxesSubplot at 0x733ab38>)"
      ]
     },
     "execution_count": 4,
     "metadata": {},
     "output_type": "execute_result"
    },
    {
     "data": {
      "image/png": "[encoded data removed]",
      "text/plain": [
       "<matplotlib.figure.Figure at 0x71dde10>"
      ]
     },
     "metadata": {},
     "output_type": "display_data"
    }
   ],
   "source": [
    "# VCD notebook plot is experimental ... \n",
    "vcd.parse_and_plot('vcd/02_mex.vcd')"
   ]
  },
  {
   "cell_type": "code",
   "execution_count": null,
   "metadata": {
    "collapsed": true
   },
   "outputs": [],
   "source": []
  }
 ],
 "metadata": {
  "kernelspec": {
   "display_name": "Python 3",
   "language": "python",
   "name": "python3"
  },
  "language_info": {
   "codemirror_mode": {
    "name": "ipython",
    "version": 3
   },
   "file_extension": ".py",
   "mimetype": "text/x-python",
   "name": "python",
   "nbconvert_exporter": "python",
   "pygments_lexer": "ipython3",
   "version": "3.4.3"
  }
 },
 "nbformat": 4,
 "nbformat_minor": 0
}
