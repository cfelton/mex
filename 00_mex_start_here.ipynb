{
 "cells": [
  {
   "cell_type": "code",
   "execution_count": 1,
   "metadata": {
    "collapsed": false,
    "scrolled": true
   },
   "outputs": [],
   "source": [
    "from __future__ import division\n",
    "from __future__ import print_function\n",
    "\n",
    "import os\n",
    "\n",
    "from myhdl import *\n",
    "from support import vcd\n",
    "from support import run_testbench\n",
    "\n",
    "%matplotlib inline"
   ]
  },
  {
   "cell_type": "markdown",
   "metadata": {},
   "source": [
    "First, clone the repository and run the ipython notebook in the cloned workspace:\n",
    "\n",
    "    >> git clone https://github/cfelton/myhdl_exercises\n",
    "    >> cd myhdl_exercises\n",
    "    >> ipython notebook\n",
    "    \n",
    "Next, to run the exercises the *myhdl* package needs to be available.  If the above cell did not execute without error (the import statement) the packages need to be retrieved and the notebook kernel restarted, the myhdl package can be retrieved via *pypi*:\n",
    "\n",
    "    >> pip install myhdl    \n",
    "    \n",
    "Or the latest can be retrieved from:\n",
    "\n",
    "    >> git clone https://github.com/jandecaluwe/myhdl\n",
    "    \n",
    "Once the packages are installed the following cells should complete without error.  Experiment with the following and see how some of the types in MyHDL behave.  "
   ]
  },
  {
   "cell_type": "markdown",
   "metadata": {},
   "source": [
    " "
   ]
  },
  {
   "cell_type": "code",
   "execution_count": 2,
   "metadata": {
    "collapsed": false
   },
   "outputs": [],
   "source": [
    "x = intbv(0, min=-8, max=8)\n",
    "x[:] = 3\n",
    "y = intbv(0, min=2*x.min, max=2*x.max)\n",
    "y[:] = x * 2\n",
    "assert x == 3\n",
    "assert y == 6"
   ]
  },
  {
   "cell_type": "code",
   "execution_count": 4,
   "metadata": {
    "collapsed": false,
    "scrolled": true
   },
   "outputs": [
    {
     "data": {
      "text/plain": [
       "(<matplotlib.figure.Figure at 0x105982cc0>,\n",
       " <matplotlib.axes._subplots.AxesSubplot at 0x105a50e10>)"
      ]
     },
     "execution_count": 4,
     "metadata": {},
     "output_type": "execute_result"
    },
    {
     "data": {
      "image/png": "[encoded data removed]",
      "text/plain": [
       "<matplotlib.figure.Figure at 0x105982cc0>"
      ]
     },
     "metadata": {},
     "output_type": "display_data"
    }
   ],
   "source": [
    "\n",
    "def family_dynamics():\n",
    "    tickle = Signal(False)\n",
    "    angry = Signal(False)\n",
    "\n",
    "    @instance\n",
    "    def grumpy_old_man():\n",
    "        while True:\n",
    "            angry.next = True if tickle else False\n",
    "            yield delay(1)\n",
    "            \n",
    "    @instance\n",
    "    def toddler():\n",
    "        yield delay(2)\n",
    "        while True:\n",
    "            if not angry:\n",
    "                tickle.next = True\n",
    "            else:\n",
    "                tickle.next = True  # :)\n",
    "            yield delay(1)\n",
    "        \n",
    "    @instance\n",
    "    def fun_police():\n",
    "        yield delay(4)\n",
    "        assert angry\n",
    "        yield delay(4)\n",
    "        raise StopSimulation\n",
    "        \n",
    "    return grumpy_old_man, toddler, fun_police\n",
    "\n",
    "run_testbench(family_dynamics, 'family_dynamics')\n",
    "vcd.parse_and_plot('vcd/family_dynamics.vcd')"
   ]
  },
  {
   "cell_type": "markdown",
   "metadata": {},
   "source": [
    "At this point there is no expectation that the above is comprehensible.  The above tests that the pakcages are installed correctly The [MyHDL manual](http://docs.myhdl.org/en/stable/) is the best spot to get started (always feel free to provide feedback and make contributions to the manual either through the [github issues](https://github.com/jandecaluwe/myhdl/issues) or a pull request to the [myhdl repo](https://github.com/jandecaluwe/myhdl).  These exercises assume basic familiarity with MyHDL.  The following sections of the manual should be reviewed be starting the exercises:\n",
    "\n",
    "0. [Background Information](http://docs.myhdl.org/en/stable/manual/background.html)\n",
    "0. [Signals, ports, and concurrency](http://docs.myhdl.org/en/stable/manual/intro.html#signals-ports-and-concurrency), the [signal assignment essay](http://www.jandecaluwe.com/hdldesign/signal-assignments.html) is also a valuable read.\n",
    "0. [RTL modeling](http://docs.myhdl.org/en/stable/manual/rtl.html#rtl-modeling)\n",
    "\n",
    "Each of the exercises will describe a module that needs to be implemented, it will defined the inputs and outputs.  In the `test_XX_mex.py` files are the tests for each module.  The exercises will provide a verification test and later modules the student will develop the tests.\n",
    "\n",
    "After reviewing some of the documentation proceed to the first exercise **01_mex_shifty.ipynb**.\n"
   ]
  },
  {
   "cell_type": "code",
   "execution_count": null,
   "metadata": {
    "collapsed": true
   },
   "outputs": [],
   "source": []
  }
 ],
 "metadata": {
  "kernelspec": {
   "display_name": "Python 3",
   "language": "python",
   "name": "python3"
  },
  "language_info": {
   "codemirror_mode": {
    "name": "ipython",
    "version": 3
   },
   "file_extension": ".py",
   "mimetype": "text/x-python",
   "name": "python",
   "nbconvert_exporter": "python",
   "pygments_lexer": "ipython3",
   "version": "3.4.3"
  }
 },
 "nbformat": 4,
 "nbformat_minor": 0
}
