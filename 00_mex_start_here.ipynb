{
 "metadata": {
  "name": "",
  "signature": "sha256:ab5647f0bbe70c26405628112bff4e36b762a1d5f3288b411440c59a1e4634bd"
 },
 "nbformat": 3,
 "nbformat_minor": 0,
 "worksheets": [
  {
   "cells": [
    {
     "cell_type": "code",
     "collapsed": false,
     "input": [
      "from __future__ import division\n",
      "from __future__ import print_function\n",
      "\n",
      "import os\n",
      "\n",
      "from myhdl import *\n",
      "from myhdl_tools import vcd"
     ],
     "language": "python",
     "metadata": {},
     "outputs": [],
     "prompt_number": 1
    },
    {
     "cell_type": "markdown",
     "metadata": {},
     "source": [
      "First, clone the repository and run the ipython notebook in the cloned workspace:\n",
      "\n",
      "    >> git clone https://github/cfelton/mex\n",
      "    >> cd mex\n",
      "    >> ipython notebook\n",
      "    \n",
      "Next, to run the exercises the *myhdl* and *myhdl_tools* packages are required.  If the above cell did not execute without error the packages need to be retrieved and the notebook kernel restarted.  Both packages can be installed via *pypi*:\n",
      "\n",
      "    >> pip install myhdl\n",
      "    >> pip install myhdl_tools\n",
      "    \n",
      "Or the latest can be retrieved from:\n",
      "\n",
      "    >> git clone https://github.com/jandecaluwe/myhdl\n",
      "    >> hg clone https://bitbucket.org/cfelton/myhdl_tools\n",
      "    \n",
      "Once the packages are installed the following cells should complete without error.  Experiment with the following and see how some of the types in MyHDL behave.  "
     ]
    },
    {
     "cell_type": "markdown",
     "metadata": {},
     "source": []
    },
    {
     "cell_type": "code",
     "collapsed": false,
     "input": [
      "x = intbv(0, min=-8, max=8)\n",
      "x[:] = 3\n",
      "y = intbv(0, min=2*x.min, max=2*x.max)\n",
      "y[:] = x * 2\n",
      "assert x == 3\n",
      "assert y == 6"
     ],
     "language": "python",
     "metadata": {},
     "outputs": [],
     "prompt_number": 2
    },
    {
     "cell_type": "code",
     "collapsed": false,
     "input": [
      "\n",
      "def family_dynamics():\n",
      "    tickle = Signal(False)\n",
      "    angry = Signal(False)\n",
      "\n",
      "    @instance\n",
      "    def grumpy_old_man():\n",
      "        while True:\n",
      "            angry.next = True if tickle else False\n",
      "            yield delay(1)\n",
      "            \n",
      "    @instance\n",
      "    def toddler():\n",
      "        yield delay(50)\n",
      "        while True:\n",
      "            if not angry:\n",
      "                tickle.next = True\n",
      "            else:\n",
      "                tickle.next = True  # :)\n",
      "            yield delay(1)\n",
      "        \n",
      "    @instance\n",
      "    def fun_police():\n",
      "        yield delay(52)\n",
      "        assert angry\n",
      "        yield delay(200)\n",
      "        raise StopSimulation\n",
      "        \n",
      "    return grumpy_old_man, toddler, fun_police\n",
      "\n",
      "Simulation(traceSignals(family_dynamics)).run()\n",
      "vcd.parse_and_plot('family_dynamics.vcd')"
     ],
     "language": "python",
     "metadata": {},
     "outputs": [
      {
       "metadata": {},
       "output_type": "pyout",
       "prompt_number": 7,
       "text": [
        "(<matplotlib.figure.Figure at 0x81a9278>,\n",
        " <matplotlib.axes.AxesSubplot at 0x89129e8>)"
       ]
      },
      {
       "metadata": {},
       "output_type": "display_data",
       "png": "[encoded data removed]",
       "text": [
        "<matplotlib.figure.Figure at 0x81a9278>"
       ]
      }
     ],
     "prompt_number": 7
    },
    {
     "cell_type": "markdown",
     "metadata": {},
     "source": [
      "At this point there is no expectation that the above is comprehensible.  The above tests that the pakcages are installed correctly The [MyHDL manual]() is the best spot to get started (always feel free to provide feedback and make contributions to the manual either through the [bitbucket issues]() or a pull request to the [myhdl repo]().  These exercises assume basic familiarity with MyHDL.  The following sections of the manual should be reviewed be starting the exercises:\n",
      "\n",
      "0. [??]()\n",
      "0. [??]()\n",
      "0. [??]()\n",
      "0. [??]()\n",
      "\n",
      "Each of the exercises will describe a module that needs to be implemented, it will defined the inputs and outputs.  In the test_XX_mex.py files are the tests for each module.  The exercises will provide a verification "
     ]
    }
   ],
   "metadata": {}
  }
 ]
}